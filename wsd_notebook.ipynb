{
 "cells": [
  {
   "cell_type": "code",
   "execution_count": 2,
   "metadata": {
    "collapsed": true
   },
   "outputs": [],
   "source": [
    "# Import of the main utilities\n",
    "from nltk.wsd import lesk \n",
    "from nltk.corpus import stopwords, wordnet, semcor\n",
    "from nltk import tree\n"
   ]
  },
  {
   "cell_type": "code",
   "execution_count": 5,
   "metadata": {},
   "outputs": [],
   "source": [
    "def lesk2(context_sentence, ambiguous_word, pos=None):\n",
    "    # Attempt to make lesk more accurate removing stop words\n",
    "    stop_words = set(stopwords.words('english'))\n",
    "    context = set(context_sentence)\n",
    "    synsets = wordnet.synsets(ambiguous_word)\n",
    "\n",
    "    if pos:\n",
    "        synsets = [ss for ss in synsets if str(ss.pos()) == pos]\n",
    "    if not synsets:\n",
    "        return None\n",
    "    _, sense = max(\n",
    "        (len(\n",
    "            context.intersection(set(ss.definition().split())-stop_words)), ss\n",
    "        ) for ss in synsets\n",
    "    )\n",
    "    return sense"
   ]
  },
  {
   "cell_type": "code",
   "execution_count": 52,
   "metadata": {
    "collapsed": true
   },
   "outputs": [
    {
     "name": "stdout",
     "output_type": "stream",
     "text": [
      "[['If', 'the', 'Orioles', 'are', 'to', 'break', 'their', 'losing', 'streak', 'within', 'the', 'next', 'two', 'days', ',', 'it', 'will', 'have', 'to', 'be', 'at', 'the', 'expense', 'of', 'the', 'American', 'League', 'champion', 'New', 'York', 'Yankees', ',', 'who', 'come', 'in', 'here', 'tomorrow', 'for', 'a', 'night', 'game', 'and', 'a', 'single', 'test', 'Sunday', 'afternoon', '.'], ['The', 'Texans', 'made', 'themselves', 'a', 'comforting', 'break', 'on', 'the', 'opening', 'kickoff', 'when', 'Denver', \"'s\", 'Al', 'Carmichael', 'was', 'jarred', 'loose', 'from', 'the', 'ball', 'when', 'Dave', 'Grayson', ',', 'the', 'speedy', 'halfback', ',', 'hit', 'him', 'and', 'Guard', 'Al', 'Reynolds', 'claimed', 'it', 'for', 'Dallas', '.'], ['The', 'opinion', 'continues', 'here', 'that', 'with', 'a', '162', '-', 'game', 'schedule', ',', 'pitching', 'spread', 'thin', 'through', 'a', '10', '-', 'team', 'league', 'and', 'a', 'most', 'inviting', 'target', 'in', 'Los', 'Angeles', \"'\", 'Wrigley', 'Field', 'Jr.', ',', 'Mantle', 'just', 'might', 'break', 'the', 'most', 'glamorous', 'record', 'on', 'the', 'books', ',', 'Babe', 'Ruth', \"'s\", '60', 'homers', 'of', '1927', '.']]\n[Lemma('interrupt.v.04.break'), Lemma('break.n.02.break'), Lemma('better.v.01.break')]\n"
     ]
    }
   ],
   "source": [
    "def retrieve_sent(ambiguos_word, all_tagged_sents):\n",
    "    # This method retrieve all the sentences containing the specified ambiguos word\n",
    "    # and the corresponding synset from a tagged corpora structured as list of sentences. \n",
    "    # Each sentence is represented as a list of tagged chunks (in tree form).\n",
    "    saved_tagged_sent = []\n",
    "    saved_synset = []\n",
    "    \n",
    "    for tagged_sent in all_tagged_sents[0:1000]:\n",
    "        sent_to_save = False\n",
    "        sent_words = []\n",
    "        for tagged_chunk in tagged_sent:\n",
    "            synset = \"\"\n",
    "            if isinstance(tagged_chunk, tree.Tree):\n",
    "                current_word = tagged_chunk.leaves()\n",
    "                sent_words = sent_words + current_word\n",
    "                synset = tagged_chunk.label()\n",
    "            else:\n",
    "                current_word = tagged_chunk\n",
    "                sent_words = sent_words + current_word\n",
    "                if len(tagged_chunk) == 2:\n",
    "                    synset = tagged_chunk[1]\n",
    "            if ambiguos_word in current_word:\n",
    "                sent_to_save = True\n",
    "                saved_synset.append(synset)\n",
    "        if sent_to_save:\n",
    "            saved_tagged_sent.append(sent_words)\n",
    "    return (saved_tagged_sent, saved_synset)"
   ]
  },
  {
   "cell_type": "code",
   "execution_count": 6,
   "metadata": {},
   "outputs": [
    {
     "name": "stdout",
     "output_type": "stream",
     "text": [
      "Synset('fault.n.04')\nSynset('rupture.n.02')\n(geology) a crack in the earth's crust resulting from the displacement of one side with respect to the other\na personal or social separation (as between opposing factions)\n"
     ]
    }
   ],
   "source": [
    "# Test retrieve_sentence method\n",
    "all_tagged_sents = semcor.tagged_sents(tag='sem')\n",
    "retrievedSent = retrieve_sent(\"break\", all_tagged_sents)\n",
    "print(retrievedSent)"
   ]
  },
  {
   "cell_type": "code",
   "execution_count": 22,
   "metadata": {},
   "outputs": [
    {
     "name": "stdout",
     "output_type": "stream",
     "text": [
      "['a', 'b', 'c', 'd']\n"
     ]
    }
   ],
   "source": [
    "# Check differences obtained by using regular lesk and lesk2\n",
    "sent3 = \"the break was short\".split()\n",
    "\n",
    "sense1=lesk(sent3, 'break', 'n')\n",
    "sense2=lesk2(sent3, 'break', 'n')\n",
    "\n",
    "print(sense1)\n",
    "print(sense1.definition())\n",
    "\n",
    "print(sense2)\n",
    "print(sense2.definition())\n",
    "# Which one is better???"
   ]
  },
  {
   "cell_type": "code",
   "execution_count": null,
   "metadata": {},
   "outputs": [],
   "source": [
    "\n",
    "\n",
    "\n",
    "\n"
   ]
  }
 ],
 "metadata": {
  "kernelspec": {
   "display_name": "Python 2",
   "language": "python",
   "name": "python2"
  },
  "language_info": {
   "codemirror_mode": {
    "name": "ipython",
    "version": 2
   },
   "file_extension": ".py",
   "mimetype": "text/x-python",
   "name": "python",
   "nbconvert_exporter": "python",
   "pygments_lexer": "ipython2",
   "version": "2.7.6"
  }
 },
 "nbformat": 4,
 "nbformat_minor": 0
}
